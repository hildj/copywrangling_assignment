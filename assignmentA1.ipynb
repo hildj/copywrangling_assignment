{
 "cells": [
  {
   "cell_type": "markdown",
   "id": "13ad028b-72b7-43ed-aa78-96fd4e518040",
   "metadata": {
    "id": "13ad028b-72b7-43ed-aa78-96fd4e518040"
   },
   "source": [
    "# Assignment: Data Wrangling\n",
    "### `! git clone https://github.com/ds3001f25/wrangling_assignment.git`\n",
    "### Do Q1 and Q2\n",
    "### Reading material: `tidy_data.pdf`"
   ]
  },
  {
   "cell_type": "markdown",
   "id": "da879ea7-8aac-48a3-b6c2-daea56d2e072",
   "metadata": {
    "id": "da879ea7-8aac-48a3-b6c2-daea56d2e072"
   },
   "source": [
    "**Q1.** This question provides some practice cleaning variables which have common problems.\n",
    "1. Numeric variable: For `./data/airbnb_hw.csv`, clean the `Price` variable as well as you can, and explain the choices you make. How many missing values do you end up with? (Hint: What happens to the formatting when a price goes over 999 dollars, say from 675 to 1,112?)\n",
    "2. Categorical variable: For the Minnesota police use of for data, `./data/mn_police_use_of_force.csv`, clean the `subject_injury` variable, handling the NA's; this gives a value `Yes` when a person was injured by police, and `No` when no injury occurred. What proportion of the values are missing? Is this a concern? Cross-tabulate your cleaned `subject_injury` variable with the `force_type` variable. Are there any patterns regarding when the data are missing? \n",
    "3. Dummy variable: For the pretrial data covered in the lecture `./data/justice_data.parquet`, clean the `WhetherDefendantWasReleasedPretrial` variable as well as you can, and, in particular, replace missing values with `np.nan`.\n",
    "4. Missing values, not at random: For the pretrial data covered in the lecture, clean the `ImposedSentenceAllChargeInContactEvent` variable as well as you can, and explain the choices you make. (Hint: Look at the `SentenceTypeAllChargesAtConvictionInContactEvent` variable.)"
   ]
  },
  {
   "cell_type": "code",
   "execution_count": 1,
   "id": "9d412a8d",
   "metadata": {},
   "outputs": [
    {
     "name": "stdout",
     "output_type": "stream",
     "text": [
      "0    145\n",
      "1     37\n",
      "2     28\n",
      "3    199\n",
      "4    549\n",
      "Name: Price, dtype: object\n",
      "Missing values in Price: 0\n",
      "Rows with commas in Price formatting:\n",
      " Empty DataFrame\n",
      "Columns: [Host Id, Host Since, Name, Neighbourhood , Property Type, Review Scores Rating (bin), Room Type, Zipcode, Beds, Number of Records, Number Of Reviews, Price, Review Scores Rating]\n",
      "Index: []\n",
      "Missing values in Price after cleaning: 0\n"
     ]
    }
   ],
   "source": [
    "import pandas\n",
    "\n",
    "df = pandas.read_csv(\"./data/airbnb_hw.csv\")\n",
    "\n",
    "print(df['Price'].head())\n",
    "\n",
    "df['Price'] = (\n",
    "    df['Price']\n",
    "    .astype(str)\n",
    "    .str.replace(',', '', regex=False)\n",
    "    .str.replace('$', '', regex=False)\n",
    "    .str.strip()\n",
    ")\n",
    "df['Price'] = pandas.to_numeric(df['Price'], errors=\"coerce\")\n",
    "\n",
    "missing_count = df[\"Price\"].isna().sum()\n",
    "print(\"Missing values in Price:\", missing_count)\n",
    "with_commas = df[df[\"Price\"].astype(str).str.contains(\",\")]\n",
    "print(\"Rows with commas in Price formatting:\\n\", with_commas)\n",
    "df[\"Price\"] = df[\"Price\"].replace(\",\", \"\", regex=True)\n",
    "df[\"Price\"] = pandas.to_numeric(df[\"Price\"], errors=\"coerce\")\n",
    "missing_after = df[\"Price\"].isna().sum()\n",
    "print(\"Missing values in Price after cleaning:\", missing_after)\n",
    "\n",
    "# For this question, I cleaned the 'Price' column by removing dollar signs (\"$\") and commas (\",\") \n",
    "# so the values could be converted into a numeric format. I also stripped out any extra spaces. \n",
    "# After converting the column to numbers, I checked the number of missing values before and after cleaning \n",
    "# to make sure the transformation worked correctly. \n"
   ]
  },
  {
   "cell_type": "code",
   "execution_count": 2,
   "id": "d95a0cc0-f393-48d3-9a1b-54c97cbd7607",
   "metadata": {},
   "outputs": [
    {
     "name": "stdout",
     "output_type": "stream",
     "text": [
      "subject_injury\n",
      "Missing    0.761934\n",
      "Yes        0.126190\n",
      "No         0.111876\n",
      "Name: proportion, dtype: float64\n",
      "force_type      Baton  Bodily Force  Chemical Irritant  Firearm  \\\n",
      "subject_injury                                                    \n",
      "Missing             2          7051               1421        0   \n",
      "No                  0          1093                131        2   \n",
      "Yes                 2          1286                 41        0   \n",
      "\n",
      "force_type      Gun Point Display  Improvised Weapon  Less Lethal  \\\n",
      "subject_injury                                                      \n",
      "Missing                        27                 74           87   \n",
      "No                             33                 34            0   \n",
      "Yes                            44                 40            0   \n",
      "\n",
      "force_type      Less Lethal Projectile  Maximal Restraint Technique  \\\n",
      "subject_injury                                                        \n",
      "Missing                              0                          170   \n",
      "No                                   1                            0   \n",
      "Yes                                  2                            0   \n",
      "\n",
      "force_type      Police K9 Bite  Taser  \n",
      "subject_injury                         \n",
      "Missing                     31    985  \n",
      "No                           2    150  \n",
      "Yes                         44    172  \n"
     ]
    }
   ],
   "source": [
    "import pandas\n",
    "\n",
    "df = pandas.read_csv(\"./data/mn_police_use_of_force.csv\")\n",
    "\n",
    "df['subject_injury'] = (\n",
    "    df['subject_injury']\n",
    "    .astype(str)\n",
    "    .str.strip()\n",
    "    .str.lower()\n",
    ")\n",
    "\n",
    "df['subject_injury'] = df['subject_injury'].replace({\n",
    "    'nan': 'Missing',\n",
    "    'yes': 'Yes',\n",
    "    'no': 'No'\n",
    "})\n",
    "\n",
    "print(df['subject_injury'].value_counts(normalize=True))\n",
    "\n",
    "# cross-tab with force_type\n",
    "print(pandas.crosstab(df['subject_injury'], df['force_type']))\n",
    "\n",
    "# I cleaned the 'subject_injury' column by converting all values to strings, \n",
    "# stripping extra spaces, and making everything lowercase for consistency. \n",
    "# Then I replaced 'nan' with 'Missing' to clearly mark missing data, \n",
    "# and standardized the responses so that 'yes' became 'Yes' and 'no' became 'No'.\n"
   ]
  },
  {
   "cell_type": "code",
   "execution_count": 3,
   "id": "5d21bb8c-176b-475d-a6ca-5e0b572012ea",
   "metadata": {},
   "outputs": [
    {
     "name": "stdout",
     "output_type": "stream",
     "text": [
      "0    9\n",
      "1    0\n",
      "2    0\n",
      "3    0\n",
      "4    1\n",
      "5    0\n",
      "6    1\n",
      "7    1\n",
      "8    0\n",
      "9    1\n",
      "Name: WhetherDefendantWasReleasedPretrial, dtype: int64\n"
     ]
    }
   ],
   "source": [
    "import pandas\n",
    "import numpy as np\n",
    "\n",
    "df = pandas.read_parquet(\"./data/justice_data.parquet\")\n",
    "\n",
    "df[\"WhetherDefendantWasReleasedPretrial\"] = df[\"WhetherDefendantWasReleasedPretrial\"].replace(\n",
    "    [\"\", \"NA\"], np.nan\n",
    ")\n",
    "\n",
    "print(df[\"WhetherDefendantWasReleasedPretrial\"].head(10))\n",
    "\n",
    "# I cleaned the column \"WhetherDefendantWasReleasedPretrial\" by replacing empty strings (\"\") \n",
    "# and \"NA\" values with np.nan so that the missing data is properly recognized in the dataframe. \n",
    "# This helps make the dataset more consistent and ready for analysis. \n"
   ]
  },
  {
   "cell_type": "code",
   "execution_count": 4,
   "id": "7d0b4eab-07e1-43bd-9c01-81fdf42aae05",
   "metadata": {
    "scrolled": true
   },
   "outputs": [
    {
     "name": "stdout",
     "output_type": "stream",
     "text": [
      "    SentenceTypeAllChargesAtConvictionInContactEvent  \\\n",
      "0                                                  9   \n",
      "1                                                  0   \n",
      "2                                                  1   \n",
      "3                                                  1   \n",
      "4                                                  4   \n",
      "5                                                  0   \n",
      "6                                                  1   \n",
      "7                                                  0   \n",
      "8                                                  1   \n",
      "9                                                  1   \n",
      "10                                                 0   \n",
      "11                                                 4   \n",
      "12                                                 4   \n",
      "13                                                 1   \n",
      "14                                                 1   \n",
      "\n",
      "   ImposedSentenceAllChargeInContactEvent CleanedImposedSentence  \n",
      "0                                                                 \n",
      "1                                      60                     60  \n",
      "2                                      12                     12  \n",
      "3                        .985626283367556       .985626283367556  \n",
      "4                                                                 \n",
      "5                                      12                     12  \n",
      "6                                      36                     36  \n",
      "7                                       6                      6  \n",
      "8                                      24                     24  \n",
      "9                                      12                     12  \n",
      "10                       5.91375770020534       5.91375770020534  \n",
      "11                                                                \n",
      "12                                                                \n",
      "13                                    120                    120  \n",
      "14                                     24                     24  \n"
     ]
    }
   ],
   "source": [
    "import pandas as pd\n",
    "import numpy as np\n",
    "\n",
    "df = pandas.read_parquet(\"./data/justice_data.parquet\") \n",
    "\n",
    "df[\"CleanedImposedSentence\"] = np.where(\n",
    "    (df[\"ImposedSentenceAllChargeInContactEvent\"].isna()) &\n",
    "    (df[\"SentenceTypeAllChargesAtConvictionInContactEvent\"].isin([\"No Sentence\", \"Acquitted\"])),\n",
    "    0,\n",
    "    df[\"ImposedSentenceAllChargeInContactEvent\"]\n",
    ")\n",
    "\n",
    "def clean_sentence(row):\n",
    "    if pd.isna(row[\"ImposedSentenceAllChargeInContactEvent\"]):\n",
    "        if row[\"SentenceTypeAllChargesAtConvictionInContactEvent\"] in [\"No Sentence\", \"Acquitted\"]:\n",
    "            return 0\n",
    "    return row[\"ImposedSentenceAllChargeInContactEvent\"]\n",
    "\n",
    "df[\"CleanedImposedSentence\"] = df.apply(clean_sentence, axis=1)\n",
    "\n",
    "print(df[[\"SentenceTypeAllChargesAtConvictionInContactEvent\",\n",
    "          \"ImposedSentenceAllChargeInContactEvent\",\n",
    "          \"CleanedImposedSentence\"]].head(15))\n",
    "\n",
    "# I cleaned the \"ImposedSentenceAllChargeInContactEvent\" column by replacing missing values with 0 \n",
    "# when the \"SentenceTypeAllChargesAtConvictionInContactEvent\" was either \"No Sentence\" or \"Acquitted.\" \n",
    "# Otherwise, I kept the original imposed sentence values. I saved the cleaned results in a new column \n",
    "# called \"CleanedImposedSentence.\""
   ]
  },
  {
   "cell_type": "markdown",
   "id": "95f209f0-8f72-46f9-9b28-65086920a6e3",
   "metadata": {},
   "source": []
  },
  {
   "cell_type": "markdown",
   "id": "5a60a44e",
   "metadata": {},
   "source": [
    "**Q2.** Go to https://sharkattackfile.net/ and download their dataset on shark attacks (Hint: `GSAF5.xls`).\n",
    "\n",
    "1. Open the shark attack file using Pandas. It is probably not a csv file, so `read_csv` won't work.\n",
    "2. Drop any columns that do not contain data.\n",
    "3. Clean the year variable. Describe the range of values you see. Filter the rows to focus on attacks since 1940. Are attacks increasing, decreasing, or remaining constant over time?\n",
    "4. Clean the Age variable and make a histogram of the ages of the victims.\n",
    "5. What proportion of victims are male?\n",
    "6. Clean the `Type` variable so it only takes three values: Provoked and Unprovoked and Unknown. What proportion of attacks are unprovoked?\n",
    "7. Clean the `Fatal Y/N` variable so it only takes three values: Y, N, and Unknown.\n",
    "8. Are sharks more likely to launch unprovoked attacks on men or women? Is the attack more or less likely to be fatal when the attack is provoked or unprovoked? Is it more or less likely to be fatal when the victim is male or female? How do you feel about sharks?\n",
    "9. What proportion of attacks appear to be by white sharks? (Hint: `str.split()` makes a vector of text values into a list of lists, split by spaces.)"
   ]
  },
  {
   "cell_type": "code",
   "execution_count": 5,
   "id": "8dd12e7e-eb59-45ed-9ba2-486d664289aa",
   "metadata": {},
   "outputs": [
    {
     "name": "stdout",
     "output_type": "stream",
     "text": [
      "Defaulting to user installation because normal site-packages is not writeable\n",
      "Looking in links: /usr/share/pip-wheels\n",
      "Requirement already satisfied: openpyxl in /opt/conda/envs/anaconda-2024.02-py310/lib/python3.10/site-packages (3.0.10)\n",
      "Requirement already satisfied: et_xmlfile in /opt/conda/envs/anaconda-2024.02-py310/lib/python3.10/site-packages (from openpyxl) (1.1.0)\n",
      "Column names in the DataFrame: ['Date', 'Year', 'Type', 'Country', 'State', 'Location', 'Activity', 'Name', 'Sex', 'Age', 'Injury', 'Fatal Y/N', 'Time', 'Species ', 'Source', 'pdf', 'href formula', 'href', 'Case Number', 'Case Number.1', 'original order', 'Unnamed: 21', 'Unnamed: 22']\n",
      "Year range: 0.0 to 2026.0\n",
      "\n",
      "Number of attacks per year since 1940 (last 10 years shown):\n",
      "Year\n",
      "2017.0    141\n",
      "2018.0    124\n",
      "2019.0    114\n",
      "2020.0    101\n",
      "2021.0    110\n",
      "2022.0     98\n",
      "2023.0    109\n",
      "2024.0     52\n",
      "2025.0     48\n",
      "2026.0      1\n",
      "dtype: int64\n",
      "\n",
      "Age summary of victims:\n",
      "count    3903.000000\n",
      "mean       28.154497\n",
      "std        14.649413\n",
      "min         1.000000\n",
      "25%        17.000000\n",
      "50%        24.000000\n",
      "75%        37.000000\n",
      "max        87.000000\n",
      "Name: Age, dtype: float64\n",
      "\n",
      "Proportion of victims that are male: 0.8026128940641863\n",
      "Proportion of attacks that are unprovoked: 0.7380005680204488\n",
      "\n",
      "Fatal by gender:\n",
      "Fatal Y/N         N   Unknown         Y\n",
      "Sex                                    \n",
      ".          0.000000  0.000000  1.000000\n",
      "F          0.761787  0.086849  0.151365\n",
      "LLI        1.000000  0.000000  0.000000\n",
      "M          0.697275  0.081387  0.221338\n",
      "M X 2      0.000000  1.000000  0.000000\n",
      "N          0.500000  0.000000  0.500000\n",
      "\n",
      "Fatal by type:\n",
      "Fatal Y/N          N   Unknown         Y\n",
      "Type                                    \n",
      "Provoked    0.953198  0.014041  0.032761\n",
      "Unknown     0.372924  0.460963  0.166113\n",
      "Unprovoked  0.742159  0.015201  0.242640\n",
      "\n",
      "Unprovoked vs Provoked by gender:\n",
      "Type   Provoked   Unknown  Unprovoked\n",
      "Sex                                  \n",
      ".      0.000000  1.000000    0.000000\n",
      "F      0.038462  0.114144    0.847395\n",
      "LLI    0.000000  0.000000    1.000000\n",
      "M      0.097311  0.133935    0.768754\n",
      "M X 2  0.000000  1.000000    0.000000\n",
      "N      0.500000  0.500000    0.000000\n",
      "\n",
      "Proportion of attacks by white sharks: 0.18179493735617488\n"
     ]
    }
   ],
   "source": [
    "!pip install xlrd>=2.0.1\n",
    "!pip install openpyxl\n",
    "\n",
    "import pandas as pd\n",
    "import numpy as np\n",
    "\n",
    "df = pd.read_excel(\"data/GSAF5.xls\", engine=\"xlrd\")  # Explicitly specify the engine\n",
    "\n",
    "print(\"Column names in the DataFrame:\", df.columns.tolist())\n",
    "\n",
    "df = df.dropna(axis=1, how=\"all\")\n",
    "\n",
    "df[\"Year\"] = pd.to_numeric(df[\"Year\"], errors=\"coerce\")\n",
    "print(\"Year range:\", df[\"Year\"].min(), \"to\", df[\"Year\"].max())\n",
    "\n",
    "df_recent = df[df[\"Year\"] >= 1940]\n",
    "attacks_per_year = df_recent.groupby(\"Year\").size()\n",
    "print(\"\\nNumber of attacks per year since 1940 (last 10 years shown):\")\n",
    "print(attacks_per_year.tail(10))\n",
    "\n",
    "df[\"Age\"] = pd.to_numeric(df[\"Age\"], errors=\"coerce\")\n",
    "print(\"\\nAge summary of victims:\")\n",
    "print(df[\"Age\"].describe())\n",
    "\n",
    "sex_column = \"Sex \" if \"Sex \" in df.columns else \"Sex\"\n",
    "df[sex_column] = df[sex_column].str.strip().str.upper()\n",
    "prop_male = (df[sex_column] == \"M\").mean()\n",
    "print(\"\\nProportion of victims that are male:\", prop_male)\n",
    "\n",
    "df[\"Type\"] = df[\"Type\"].str.strip().str.capitalize()\n",
    "df.loc[~df[\"Type\"].isin([\"Provoked\", \"Unprovoked\"]), \"Type\"] = \"Unknown\"\n",
    "prop_unprovoked = (df[\"Type\"] == \"Unprovoked\").mean()\n",
    "print(\"Proportion of attacks that are unprovoked:\", prop_unprovoked)\n",
    "\n",
    "df[\"Fatal Y/N\"] = df[\"Fatal Y/N\"].str.strip().str.upper()\n",
    "df.loc[~df[\"Fatal Y/N\"].isin([\"Y\", \"N\"]), \"Fatal Y/N\"] = \"Unknown\"\n",
    "\n",
    "print(\"\\nFatal by gender:\")\n",
    "print(pd.crosstab(df[\"Sex\"], df[\"Fatal Y/N\"], normalize=\"index\"))\n",
    "\n",
    "print(\"\\nFatal by type:\")\n",
    "print(pd.crosstab(df[\"Type\"], df[\"Fatal Y/N\"], normalize=\"index\"))\n",
    "\n",
    "print(\"\\nUnprovoked vs Provoked by gender:\")\n",
    "print(pd.crosstab(df[\"Sex\"], df[\"Type\"], normalize=\"index\"))\n",
    "\n",
    "df[\"Species \"] = df[\"Species \"].str.lower()\n",
    "species_split = df[\"Species \"].dropna().str.split()\n",
    "is_white_shark = species_split.apply(lambda x: \"white\" in x)\n",
    "prop_white = is_white_shark.mean()\n",
    "print(\"\\nProportion of attacks by white sharks:\", prop_white)\n",
    "\n",
    "# I cleaned the shark attack dataset by dropping empty columns and fixing the Year and Age columns \n",
    "# so they are numeric and easier to analyze. I standardized the Sex values by stripping spaces and \n",
    "# making them uppercase, then calculated the proportion of male victims. I also cleaned the Type \n",
    "# column so it only had \"Provoked,\" \"Unprovoked,\" or \"Unknown,\" and fixed the Fatal Y/N column \n",
    "# to only include \"Y,\" \"N,\" or \"Unknown.\" Finally, I lowercased the Species column and used str.split() \n",
    "# to check what proportion of attacks were from white sharks."
   ]
  },
  {
   "cell_type": "code",
   "execution_count": 1,
   "id": "80c985a4-3ebd-4d65-9d17-377dd8b0e718",
   "metadata": {},
   "outputs": [
    {
     "data": {
      "text/plain": [
       "'/home/8f4def31-7c4d-4735-aa8c-7f63997add49'"
      ]
     },
     "execution_count": 1,
     "metadata": {},
     "output_type": "execute_result"
    }
   ],
   "source": [
    "import os\n",
    "os.getcwd()\n"
   ]
  },
  {
   "cell_type": "code",
   "execution_count": null,
   "id": "bdd875e4-ae39-4c62-9cb8-c5496ec94c60",
   "metadata": {},
   "outputs": [],
   "source": []
  }
 ],
 "metadata": {
  "colab": {
   "provenance": []
  },
  "kernelspec": {
   "display_name": "anaconda-2024.02-py310",
   "language": "python",
   "name": "conda-env-anaconda-2024.02-py310-py"
  },
  "language_info": {
   "codemirror_mode": {
    "name": "ipython",
    "version": 3
   },
   "file_extension": ".py",
   "mimetype": "text/x-python",
   "name": "python",
   "nbconvert_exporter": "python",
   "pygments_lexer": "ipython3",
   "version": "3.10.14"
  }
 },
 "nbformat": 4,
 "nbformat_minor": 5
}
